{
 "cells": [
  {
   "cell_type": "code",
   "execution_count": 1,
   "metadata": {},
   "outputs": [
    {
     "name": "stdout",
     "output_type": "stream",
     "text": [
      "              precision    recall  f1-score   support\n",
      "\n",
      "    negative       0.62      0.84      0.71        97\n",
      "     neutral       0.45      0.33      0.38        80\n",
      "    positive       0.74      0.65      0.69        95\n",
      "\n",
      "    accuracy                           0.62       272\n",
      "   macro avg       0.60      0.60      0.59       272\n",
      "weighted avg       0.61      0.62      0.61       272\n",
      "\n"
     ]
    }
   ],
   "source": [
    "from block_print import blockPrint,enablePrint\n",
    "import pandas as pd\n",
    "import classify_limited\n",
    "from sklearn.metrics import classification_report\n",
    "\n",
    "csv_file=\"beach_review_truncate.csv\"\n",
    "data_f = pd.read_csv(csv_file, delimiter=',', on_bad_lines='skip')\n",
    "\n",
    "strt=0\n",
    "end=0\n",
    "length=data_f.size\n",
    "\n",
    "all_predictions =[]\n",
    "all_sentiments = []\n",
    "\n",
    "for i in range(0,length,10):\n",
    "  strt=i\n",
    "  end=i+10\n",
    "  if strt==length-1:\n",
    "    end=length\n",
    "  if end>length: #to prevent index error\n",
    "    end=length\n",
    "\n",
    "  predictions,sentiments=classify_limited.classify(data_f,strt,end)\n",
    "  \n",
    "  all_predictions.extend(predictions)\n",
    "  all_sentiments.extend(sentiments)\n",
    "  \n",
    "print(classification_report(all_sentiments, all_predictions))"
   ]
  }
 ],
 "metadata": {
  "kernelspec": {
   "display_name": "Python 3.9.7 64-bit",
   "language": "python",
   "name": "python3"
  },
  "language_info": {
   "codemirror_mode": {
    "name": "ipython",
    "version": 3
   },
   "file_extension": ".py",
   "mimetype": "text/x-python",
   "name": "python",
   "nbconvert_exporter": "python",
   "pygments_lexer": "ipython3",
   "version": "3.9.7"
  },
  "orig_nbformat": 4,
  "vscode": {
   "interpreter": {
    "hash": "dae192c06f63bf50f06c5b79f36bfebc90cbbc753bd8233b67d5bdce09c2a943"
   }
  }
 },
 "nbformat": 4,
 "nbformat_minor": 2
}
